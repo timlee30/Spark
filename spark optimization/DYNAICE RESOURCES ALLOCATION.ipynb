{
 "cells": [
  {
   "cell_type": "markdown",
   "metadata": {
    "application/vnd.databricks.v1+cell": {
     "cellMetadata": {},
     "inputWidgets": {},
     "nuid": "867b89f7-70ee-440c-8a35-e6a4cf37f319",
     "showTitle": false,
     "tableResultSettingsMap": {},
     "title": ""
    }
   },
   "source": [
    "spark.conf.set(\"spark.dynamicAllocation.enabled\", \"true\")\n",
    "\n",
    "spark.conf.set(\"spark.shuffle.service.enabled\", \"true\")\n",
    "\n",
    "spark.conf.set(\"spark.dynamicAllocation.minExecutors\", \"2\")\n",
    "\n",
    "spark.conf.set(\"spark.dynamicAllocation.initialExecutors\", \"4\")\n",
    "\n",
    "spark.conf.set(\"spark.dynamicAllocation.maxExecutors\", \"10\")\n"
   ]
  },
  {
   "cell_type": "code",
   "execution_count": 0,
   "metadata": {
    "application/vnd.databricks.v1+cell": {
     "cellMetadata": {},
     "inputWidgets": {},
     "nuid": "15986283-eaff-4781-b37f-770c7f39a633",
     "showTitle": false,
     "tableResultSettingsMap": {},
     "title": ""
    }
   },
   "outputs": [],
   "source": []
  }
 ],
 "metadata": {
  "application/vnd.databricks.v1+notebook": {
   "computePreferences": null,
   "dashboards": [],
   "environmentMetadata": {
    "base_environment": "",
    "environment_version": "2"
   },
   "inputWidgetPreferences": null,
   "language": "python",
   "notebookMetadata": {
    "pythonIndentUnit": 4
   },
   "notebookName": "DYNAICE RESOURCES ALLOCATION",
   "widgets": {}
  },
  "language_info": {
   "name": "python"
  }
 },
 "nbformat": 4,
 "nbformat_minor": 0
}