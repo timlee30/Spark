{
 "cells": [
  {
   "cell_type": "code",
   "execution_count": 1,
   "id": "374411c5-a48f-4739-9031-d638638633a3",
   "metadata": {},
   "outputs": [
    {
     "data": {
      "text/plain": [
       "Intitializing Scala interpreter ..."
      ]
     },
     "metadata": {},
     "output_type": "display_data"
    },
    {
     "data": {
      "text/plain": [
       "Spark Web UI available at http://5669d5fc56f3:4048\n",
       "SparkContext available as 'sc' (version = 3.5.5, master = local[*], app id = local-1743398383846)\n",
       "SparkSession available as 'spark'\n"
      ]
     },
     "metadata": {},
     "output_type": "display_data"
    },
    {
     "ename": "<console>",
     "evalue": "26: error: ';' expected but '#' found.",
     "output_type": "error",
     "traceback": [
      "<console>:26: error: ';' expected but '#' found.",
      "       # Partitions by completion_date (for time-based filtering).",
      "       ^",
      ""
     ]
    }
   ],
   "source": [
    "\n",
    "// In python use: from pyspark.sql.functions import broadcast, split, lit\n",
    "import org.apache.spark.sql.functions.{broadcast, split, lit}\n",
    "\n",
    "\n",
    "val matchesBucketed = spark.read.option(\"header\", \"true\")\n",
    "                        .option(\"inferSchema\", \"true\")\n",
    "                        .csv(\"/home/iceberg/data/matches.csv\")\n",
    "val matchDetailsBucketed =  spark.read.option(\"header\", \"true\")\n",
    "                        .option(\"inferSchema\", \"true\")\n",
    "                        .csv(\"/home/iceberg/data/match_details.csv\")\n",
    "\n",
    "\n",
    "spark.sql(\"\"\"DROP TABLE IF EXISTS bootcamp.matches_bucketed\"\"\")\n",
    "val bucketedDDL = \"\"\"\n",
    "CREATE TABLE IF NOT EXISTS bootcamp.matches_bucketed (\n",
    "     match_id STRING,\n",
    "     is_team_game BOOLEAN,\n",
    "     playlist_id STRING,\n",
    "     completion_date TIMESTAMP\n",
    " )\n",
    " USING iceberg\n",
    " PARTITIONED BY (completion_date, bucket(16, match_id));\n",
    " \"\"\"\n",
    "\n",
    "# Partitions by completion_date (for time-based filtering).\n",
    "\n",
    "# Buckets by match_id into 16 buckets.\n",
    " \n",
    " spark.sql(bucketedDDL)\n",
    "\n",
    "// matchesBucketed.select(\n",
    "//     $\"match_id\", $\"is_team_game\", $\"playlist_id\", $\"completion_date\"\n",
    "//     )\n",
    "//     .write.mode(\"append\")\n",
    "//     .partitionBy(\"completion_date\")\n",
    "//   .bucketBy(16, \"match_id\").saveAsTable(\"bootcamp.matches_bucketed\")\n",
    "\n",
    "\n",
    "// val bucketedDetailsDDL = \"\"\"\n",
    "// CREATE TABLE IF NOT EXISTS bootcamp.match_details_bucketed (\n",
    "//     match_id STRING,\n",
    "//     player_gamertag STRING,\n",
    "//     player_total_kills INTEGER,\n",
    "//     player_total_deaths INTEGER\n",
    "// )\n",
    "// USING iceberg\n",
    "// PARTITIONED BY (bucket(16, match_id));\n",
    "// \"\"\"\n",
    "// spark.sql(bucketedDetailsDDL)\n",
    "\n",
    "// matchDetailsBucketed.select(\n",
    "//     $\"match_id\", $\"player_gamertag\", $\"player_total_kills\", $\"player_total_deaths\")\n",
    "//     .write.mode(\"append\")\n",
    "//   .bucketBy(16, \"match_id\").saveAsTable(\"bootcamp.match_details_bucketed\")\n",
    "\n",
    "spark.conf.set(\"spark.sql.autoBroadcastJoinThreshold\", \"-1\")\n",
    "\n",
    "matchesBucketed.createOrReplaceTempView(\"matches\")\n",
    "matchDetailsBucketed.createOrReplaceTempView(\"match_details\")\n",
    "\n",
    "\n",
    "# Since match_id is bucketed (16 partitions), Spark should avoid full shuffle joins.\n",
    "\n",
    "# Instead, Spark will use bucket joins, which are faster for large datasets.\n",
    "\n",
    "spark.sql(\"\"\"\n",
    "    SELECT * FROM bootcamp.match_details_bucketed mdb JOIN bootcamp.matches_bucketed md \n",
    "    ON mdb.match_id = md.match_id\n",
    "    AND md.completion_date = DATE('2016-01-01')\n",
    "        \n",
    "\"\"\").explain()\n",
    "\n",
    "\n",
    "# Joins without bucketing, forcing a full shuffle join.\n",
    "\n",
    "# This is slower and less efficient than a bucket join.\n",
    "\n",
    "spark.sql(\"\"\"\n",
    "    SELECT * FROM match_details mdb JOIN matches md ON mdb.match_id = md.match_id\n",
    "        \n",
    "\"\"\").explain()\n",
    "\n",
    "// spark.conf.set(\"spark.sql.autoBroadcastJoinThreshold\", \"1000000000000\")\n",
    "\n",
    "// val broadcastFromThreshold = matches.as(\"m\").join(matchDetails.as(\"md\"), $\"m.match_id\" === $\"md.match_id\")\n",
    "//   .select($\"m.completion_date\", $\"md.player_gamertag\",  $\"md.player_total_kills\")\n",
    "//   .take(5)\n",
    "\n",
    "\n",
    "# Forces a broadcast join using broadcast(matchDetails).\n",
    "\n",
    "# Broadcasts matchDetails across all worker nodes.\n",
    "\n",
    "# Works well only for small tables.\n",
    "\n",
    "# 💡 When to Use Broadcast Joins?\n",
    "\n",
    "# When the right-side table is small (<10MB).\n",
    "\n",
    "# When avoiding shuffle joins improves performance.\n",
    "\n",
    "\n",
    "// val explicitBroadcast = matches.as(\"m\").join(broadcast(matchDetails).as(\"md\"), $\"m.match_id\" === $\"md.match_id\")\n",
    "//   .select($\"md.*\", split($\"completion_date\", \" \").getItem(0).as(\"ds\"))\n",
    "\n",
    "// val bucketedValues = matchDetailsBucketed.as(\"mdb\").join(matchesBucketed.as(\"mb\"), $\"mb.match_id\" === $\"mdb.match_id\").explain()\n",
    "// // .take(5)\n",
    "\n",
    "// val values = matchDetailsBucketed.as(\"m\").join(matchesBucketed.as(\"md\"), $\"m.match_id\" === $\"md.match_id\").explain()\n",
    "\n",
    "// explicitBroadcast.write.mode(\"overwrite\").insertInto(\"match_details_bucketed\")\n",
    "\n",
    "// matches.withColumn(\"ds\", split($\"completion_date\", \" \").getItem(0)).write.mode(\"overwrite\").insertInto(\"matches_bucketed\")\n",
    "\n",
    "// spark.sql(bucketedSQL)\n",
    "\n"
   ]
  },
  {
   "cell_type": "code",
   "execution_count": null,
   "id": "fc8adb02-d5bd-4e84-a671-48991772d233",
   "metadata": {},
   "outputs": [],
   "source": [
    "# Join Strategy\tHow It Works\tWhen to Use?\n",
    "# Bucket Join\tPre-sorts data by bucketing\t✅ Best for large datasets with frequent joins\n",
    "# Shuffle Join\tRe-distributes data across nodes\t❌ Inefficient for large joins\n",
    "# Broadcast Join\tSends a small table to all nodes\t✅ Best for small tables (<10MB)"
   ]
  },
  {
   "cell_type": "code",
   "execution_count": null,
   "id": "6f1eecb6-ca9a-4b5c-b046-b3a0dd1ff3bf",
   "metadata": {},
   "outputs": [],
   "source": []
  }
 ],
 "metadata": {
  "kernelspec": {
   "display_name": "spylon-kernel",
   "language": "scala",
   "name": "spylon-kernel"
  },
  "language_info": {
   "codemirror_mode": "text/x-scala",
   "file_extension": ".scala",
   "help_links": [
    {
     "text": "MetaKernel Magics",
     "url": "https://metakernel.readthedocs.io/en/latest/source/README.html"
    }
   ],
   "mimetype": "text/x-scala",
   "name": "scala",
   "pygments_lexer": "scala",
   "version": "0.4.1"
  }
 },
 "nbformat": 4,
 "nbformat_minor": 5
}
