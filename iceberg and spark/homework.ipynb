{
 "cells": [
  {
   "cell_type": "code",
   "execution_count": 1,
   "id": "01407cb0-f030-4426-8508-fcfcb7ca9edd",
   "metadata": {},
   "outputs": [
    {
     "name": "stderr",
     "output_type": "stream",
     "text": [
      "25/04/01 00:26:21 WARN SparkSession: Using an existing Spark session; only runtime SQL configurations will take effect.\n",
      "25/04/01 00:26:28 WARN SparkStringUtils: Truncated the string representation of a plan since it was too large. This behavior can be adjusted by setting 'spark.sql.debug.maxToStringFields'.\n"
     ]
    }
   ],
   "source": [
    "from pyspark.sql import SparkSession\n",
    "from pyspark.sql.functions import col, broadcast, count, avg, desc, split\n",
    "\n",
    "spark = SparkSession.builder.appName(\"SparkFundamentalsHomework\").getOrCreate()\n",
    "\n",
    "# Disable automatic broadcast joins\n",
    "spark.conf.set(\"spark.sql.autoBroadcastJoinThreshold\", \"-1\")\n",
    "\n",
    "# Load datasets\n",
    "match_details = spark.read.option(\"header\", \"true\").option(\"inferSchema\", \"true\").csv(\"/home/iceberg/data/match_details.csv\")\n",
    "matches = spark.read.option(\"header\", \"true\").option(\"inferSchema\", \"true\").csv(\"/home/iceberg/data/matches.csv\")\n",
    "medals_matches_players = spark.read.option(\"header\", \"true\").option(\"inferSchema\", \"true\").csv(\"/home/iceberg/data/medals_matches_players.csv\")\n",
    "medals = spark.read.option(\"header\", \"true\").option(\"inferSchema\", \"true\").csv(\"/home/iceberg/data/medals.csv\")\n",
    "\n",
    "# Create temp views for SparkSQL\n",
    "match_details.createOrReplaceTempView(\"match_details\")\n",
    "matches.createOrReplaceTempView(\"matches\")\n",
    "medals_matches_players.createOrReplaceTempView(\"medals_matches_players\")\n",
    "medals.createOrReplaceTempView(\"medals\")"
   ]
  },
  {
   "cell_type": "code",
   "execution_count": 7,
   "id": "b3365ae4-f3ac-4211-95e6-b28348012b76",
   "metadata": {},
   "outputs": [],
   "source": [
    "# Disable automatic broadcast joins"
   ]
  },
  {
   "cell_type": "code",
   "execution_count": 2,
   "id": "0a936fba-2fb8-4d5d-8127-37869cc798ac",
   "metadata": {},
   "outputs": [
    {
     "name": "stdout",
     "output_type": "stream",
     "text": [
      "DataFrame[match_id: string, player_gamertag: string, previous_spartan_rank: int, spartan_rank: int, previous_total_xp: int, total_xp: int, previous_csr_tier: int, previous_csr_designation: int, previous_csr: int, previous_csr_percent_to_next_tier: int, previous_csr_rank: int, current_csr_tier: int, current_csr_designation: int, current_csr: int, current_csr_percent_to_next_tier: int, current_csr_rank: int, player_rank_on_team: int, player_finished: boolean, player_average_life: string, player_total_kills: int, player_total_headshots: int, player_total_weapon_damage: double, player_total_shots_landed: int, player_total_melee_kills: int, player_total_melee_damage: double, player_total_assassinations: int, player_total_ground_pound_kills: int, player_total_shoulder_bash_kills: int, player_total_grenade_damage: double, player_total_power_weapon_damage: double, player_total_power_weapon_grabs: int, player_total_deaths: int, player_total_assists: int, player_total_grenade_kills: int, did_win: int, team_id: int]\n"
     ]
    }
   ],
   "source": [
    "print(match_details)"
   ]
  },
  {
   "cell_type": "code",
   "execution_count": 3,
   "id": "04f7e45f-6b0e-4c99-a762-25170af90149",
   "metadata": {},
   "outputs": [
    {
     "name": "stdout",
     "output_type": "stream",
     "text": [
      "+--------------------+---------------+---------------------+------------+-----------------+--------+-----------------+------------------------+------------+---------------------------------+-----------------+----------------+-----------------------+-----------+--------------------------------+----------------+-------------------+---------------+-------------------+------------------+----------------------+--------------------------+-------------------------+------------------------+-------------------------+---------------------------+-------------------------------+--------------------------------+---------------------------+--------------------------------+-------------------------------+-------------------+--------------------+--------------------------+-------+-------+\n",
      "|            match_id|player_gamertag|previous_spartan_rank|spartan_rank|previous_total_xp|total_xp|previous_csr_tier|previous_csr_designation|previous_csr|previous_csr_percent_to_next_tier|previous_csr_rank|current_csr_tier|current_csr_designation|current_csr|current_csr_percent_to_next_tier|current_csr_rank|player_rank_on_team|player_finished|player_average_life|player_total_kills|player_total_headshots|player_total_weapon_damage|player_total_shots_landed|player_total_melee_kills|player_total_melee_damage|player_total_assassinations|player_total_ground_pound_kills|player_total_shoulder_bash_kills|player_total_grenade_damage|player_total_power_weapon_damage|player_total_power_weapon_grabs|player_total_deaths|player_total_assists|player_total_grenade_kills|did_win|team_id|\n",
      "+--------------------+---------------+---------------------+------------+-----------------+--------+-----------------+------------------------+------------+---------------------------------+-----------------+----------------+-----------------------+-----------+--------------------------------+----------------+-------------------+---------------+-------------------+------------------+----------------------+--------------------------+-------------------------+------------------------+-------------------------+---------------------------+-------------------------------+--------------------------------+---------------------------+--------------------------------+-------------------------------+-------------------+--------------------+--------------------------+-------+-------+\n",
      "|71d79b23-4143-435...|      taterbase|                    5|           5|            12537|   13383|                1|                       3|           0|                               98|             NULL|               2|                      3|          0|                              26|            NULL|                  4|          false|        PT14.81149S|                 6|                     4|                     255.0|                       28|                       0|                      0.0|                          0|                              0|                               0|                        0.0|                             0.0|                              0|                 13|                   1|                         0|      1|      1|\n",
      "|71d79b23-4143-435...| SuPeRSaYaInG0D|                   18|          18|           131943|  132557|                2|                       3|           0|                                2|             NULL|               1|                      3|          0|                              76|            NULL|                  7|          false|      PT11.2990845S|                 7|                     3|        350.58792304992676|                       49|                       1|                     45.0|                          0|                              0|                               0|                        0.0|                             0.0|                              0|                 18|                   2|                         0|      0|      0|\n",
      "|71d79b23-4143-435...|       EcZachly|                   21|          21|           168811|  169762|                2|                       5|           0|                               94|             NULL|               3|                      5|          0|                              24|            NULL|                  3|          false|      PT19.1357063S|                12|                    12|                     625.0|                       43|                       0|                      0.0|                          0|                              0|                               0|                        0.0|                             0.0|                              0|                 10|                   4|                         0|      1|      1|\n",
      "|71d79b23-4143-435...|    johnsnake04|                   14|          14|            64073|   64639|             NULL|                    NULL|        NULL|                             NULL|             NULL|            NULL|                   NULL|       NULL|                            NULL|            NULL|                  6|          false|      PT21.1521599S|                13|                    13|                     605.0|                       24|                       0|                      0.0|                          0|                              0|                               0|                        0.0|                             0.0|                              0|                  9|                   2|                         0|      0|      0|\n",
      "|71d79b23-4143-435...| Super Mac Bros|                   26|          26|           243425|  244430|                1|                       5|           0|                               86|             NULL|               2|                      5|          0|                               8|            NULL|                  2|          false|      PT12.8373793S|                13|                    12|                     595.0|                       32|                       1|       20.004501342773438|                          0|                              0|                               0|                        0.0|                             0.0|                              0|                 15|                   2|                         0|      1|      1|\n",
      "+--------------------+---------------+---------------------+------------+-----------------+--------+-----------------+------------------------+------------+---------------------------------+-----------------+----------------+-----------------------+-----------+--------------------------------+----------------+-------------------+---------------+-------------------+------------------+----------------------+--------------------------+-------------------------+------------------------+-------------------------+---------------------------+-------------------------------+--------------------------------+---------------------------+--------------------------------+-------------------------------+-------------------+--------------------+--------------------------+-------+-------+\n",
      "\n",
      "+--------------------+--------------------+------------+--------------------+--------------------+-------------+-------------------+--------------+---------+--------------------+\n",
      "|            match_id|               mapid|is_team_game|         playlist_id|     game_variant_id|is_match_over|    completion_date|match_duration|game_mode|      map_variant_id|\n",
      "+--------------------+--------------------+------------+--------------------+--------------------+-------------+-------------------+--------------+---------+--------------------+\n",
      "|11de1a94-8d07-416...|c7edbf0f-f206-11e...|        true|f72e0ef0-7c4a-430...|1e473914-46e4-408...|         true|2016-02-22 00:00:00|          NULL|     NULL|                NULL|\n",
      "|d3643e71-3e51-43e...|cb914b9e-f206-11e...|       false|d0766624-dbd7-453...|257a305e-4dd3-41f...|         true|2016-02-14 00:00:00|          NULL|     NULL|                NULL|\n",
      "|d78d2aae-36e4-48a...|c7edbf0f-f206-11e...|        true|f72e0ef0-7c4a-430...|1e473914-46e4-408...|         true|2016-03-24 00:00:00|          NULL|     NULL|55e5ee2e-88df-465...|\n",
      "|b440069e-ec5f-4f5...|c7edbf0f-f206-11e...|        true|f72e0ef0-7c4a-430...|1e473914-46e4-408...|         true|2015-12-23 00:00:00|          NULL|     NULL|ec3eef73-13e3-4d4...|\n",
      "|1dd475fc-ee6b-4e1...|c93d708f-f206-11e...|        true|0e39ead4-383b-445...|42f97cca-2cb4-497...|         true|2016-04-07 00:00:00|          NULL|     NULL|                NULL|\n",
      "+--------------------+--------------------+------------+--------------------+--------------------+-------------+-------------------+--------------+---------+--------------------+\n",
      "\n",
      "+--------------------+---------------+----------+-----+\n",
      "|            match_id|player_gamertag|  medal_id|count|\n",
      "+--------------------+---------------+----------+-----+\n",
      "|009fdac5-e15c-47c...|       EcZachly|3261908037|    7|\n",
      "|009fdac5-e15c-47c...|       EcZachly| 824733727|    2|\n",
      "|009fdac5-e15c-47c...|       EcZachly|2078758684|    2|\n",
      "|009fdac5-e15c-47c...|       EcZachly|2782465081|    2|\n",
      "|9169d1a3-955c-4ea...|       EcZachly|3001183151|    1|\n",
      "+--------------------+---------------+----------+-----+\n",
      "\n",
      "+----------+--------------------+-----------+----------+------------------+-------------------+------------+-------------+--------------+--------------------+--------------+----------+\n",
      "|  medal_id|          sprite_uri|sprite_left|sprite_top|sprite_sheet_width|sprite_sheet_height|sprite_width|sprite_height|classification|         description|          name|difficulty|\n",
      "+----------+--------------------+-----------+----------+------------------+-------------------+------------+-------------+--------------+--------------------+--------------+----------+\n",
      "|2315448068|                NULL|       NULL|      NULL|              NULL|               NULL|        NULL|         NULL|          NULL|                NULL|          NULL|      NULL|\n",
      "|3565441934|                NULL|       NULL|      NULL|              NULL|               NULL|        NULL|         NULL|          NULL|                NULL|          NULL|      NULL|\n",
      "|4162659350|https://content.h...|        750|       750|                74|                 74|        1125|          899|      Breakout|Kill the last ene...| Buzzer Beater|        45|\n",
      "|1573153198|https://content.h...|          0|       300|                74|                 74|        1125|          899|      Breakout|Survive a one-on-...|    Vanquisher|        30|\n",
      "| 298813630|https://content.h...|          0|       825|                74|                 74|        1125|          899|         Style|Kill an enemy wit...|Spartan Charge|       135|\n",
      "+----------+--------------------+-----------+----------+------------------+-------------------+------------+-------------+--------------+--------------------+--------------+----------+\n",
      "\n"
     ]
    }
   ],
   "source": [
    "spark.sql(\"SELECT * FROM match_details LIMIT 5\").show()\n",
    "spark.sql(\"SELECT * FROM matches LIMIT 5\").show()\n",
    "spark.sql(\"SELECT * FROM medals_matches_players LIMIT 5\").show()\n",
    "spark.sql(\"SELECT * FROM medals LIMIT 5\").show()\n",
    "\n"
   ]
  },
  {
   "cell_type": "code",
   "execution_count": 4,
   "id": "b1362f3f-f6d4-461d-83a4-dce7454ff26a",
   "metadata": {},
   "outputs": [
    {
     "name": "stdout",
     "output_type": "stream",
     "text": [
      "+---------+--------------------+-----------+\n",
      "|namespace|            viewName|isTemporary|\n",
      "+---------+--------------------+-----------+\n",
      "|         |       match_details|       true|\n",
      "|         |             matches|       true|\n",
      "|         |              medals|       true|\n",
      "|         |medals_matches_pl...|       true|\n",
      "+---------+--------------------+-----------+\n",
      "\n"
     ]
    }
   ],
   "source": [
    "spark.sql(\"SHOW VIEWS\").show()\n"
   ]
  },
  {
   "cell_type": "code",
   "execution_count": 5,
   "id": "e5140032-bf27-47ed-a32b-bf0e67f56394",
   "metadata": {},
   "outputs": [],
   "source": [
    "##2 . Explicitly broadcast JOINs medals and maps"
   ]
  },
  {
   "cell_type": "code",
   "execution_count": 8,
   "id": "489ce15d-0e45-435a-ad46-61c2a66a60ef",
   "metadata": {},
   "outputs": [
    {
     "name": "stdout",
     "output_type": "stream",
     "text": [
      "root\n",
      " |-- match_id: string (nullable = true)\n",
      " |-- mapid: string (nullable = true)\n",
      " |-- is_team_game: boolean (nullable = true)\n",
      " |-- playlist_id: string (nullable = true)\n",
      " |-- game_variant_id: string (nullable = true)\n",
      " |-- is_match_over: boolean (nullable = true)\n",
      " |-- completion_date: timestamp (nullable = true)\n",
      " |-- match_duration: string (nullable = true)\n",
      " |-- game_mode: string (nullable = true)\n",
      " |-- map_variant_id: string (nullable = true)\n",
      "\n"
     ]
    }
   ],
   "source": [
    "matches.printSchema()\n"
   ]
  },
  {
   "cell_type": "code",
   "execution_count": 15,
   "id": "a5ca5bfd-f0cb-42c9-a26b-af334a15e293",
   "metadata": {},
   "outputs": [
    {
     "name": "stdout",
     "output_type": "stream",
     "text": [
      "🗺️ Estimated Size of Maps Table: 1.65 MB\n"
     ]
    }
   ],
   "source": [
    "from pyspark.sql.functions import col\n",
    "\n",
    "# Get row count\n",
    "maps_row_count = matches.select(\"match_id\", \"mapid\").distinct().count()\n",
    "\n",
    "# Estimate average string length (assuming mapid is a string)\n",
    "avg_mapid_length = matches.selectExpr(\"AVG(LENGTH(mapid)) as avg_length\").collect()[0][0]\n",
    "\n",
    "# Estimate total size (in bytes)\n",
    "estimated_size_bytes = maps_row_count * avg_mapid_length * 2  # Assuming UTF-16 encoding\n",
    "\n",
    "# Convert to MB\n",
    "estimated_size_mb = estimated_size_bytes / (1024 * 1024)\n",
    "\n",
    "print(f\"🗺️ Estimated Size of Maps Table: {estimated_size_mb:.2f} MB\")\n"
   ]
  },
  {
   "cell_type": "code",
   "execution_count": 18,
   "id": "6c083be0-f06c-43eb-a6e7-32c8930f897a",
   "metadata": {},
   "outputs": [],
   "source": [
    "medals_broadcasted = broadcast(medals)\n",
    "maps_broadcasted = broadcast(matches.select(\"match_id\", \"mapid\").distinct())  \n",
    "\n"
   ]
  },
  {
   "cell_type": "code",
   "execution_count": 6,
   "id": "bf057290-d8a4-4316-ab3c-e7f1077fb994",
   "metadata": {},
   "outputs": [],
   "source": [
    "# 🔹 1️⃣ Why Broadcast medals and maps?\n",
    "# Broadcast joins are efficient when one table is small (usually <10MB).\n",
    "\n",
    "# Avoids shuffle joins, which reduce performance.\n",
    "\n",
    "# Prevents unnecessary network movement.\n",
    "\n",
    "# ✅ Key Takeaway: Broadcasting small tables reduces join execution time."
   ]
  },
  {
   "cell_type": "code",
   "execution_count": 21,
   "id": "4456fe25-8eb7-4b19-b81f-375c2306973b",
   "metadata": {},
   "outputs": [
    {
     "name": "stdout",
     "output_type": "stream",
     "text": [
      "== Physical Plan ==\n",
      "AdaptiveSparkPlan isFinalPlan=false\n",
      "+- Project [medal_id#145L, match_id#143, player_gamertag#144, count#146, sprite_uri#169, sprite_left#170, sprite_top#171, sprite_sheet_width#172, sprite_sheet_height#173, sprite_width#174, sprite_height#175, classification#176, description#177, name#178, difficulty#179]\n",
      "   +- BroadcastHashJoin [medal_id#145L], [medal_id#168L], Inner, BuildRight, false\n",
      "      :- Filter isnotnull(medal_id#145L)\n",
      "      :  +- FileScan csv [match_id#143,player_gamertag#144,medal_id#145L,count#146] Batched: false, DataFilters: [isnotnull(medal_id#145L)], Format: CSV, Location: InMemoryFileIndex(1 paths)[file:/home/iceberg/data/medals_matches_players.csv], PartitionFilters: [], PushedFilters: [IsNotNull(medal_id)], ReadSchema: struct<match_id:string,player_gamertag:string,medal_id:bigint,count:int>\n",
      "      +- BroadcastExchange HashedRelationBroadcastMode(List(input[0, bigint, false]),false), [plan_id=1030]\n",
      "         +- Filter isnotnull(medal_id#168L)\n",
      "            +- FileScan csv [medal_id#168L,sprite_uri#169,sprite_left#170,sprite_top#171,sprite_sheet_width#172,sprite_sheet_height#173,sprite_width#174,sprite_height#175,classification#176,description#177,name#178,difficulty#179] Batched: false, DataFilters: [isnotnull(medal_id#168L)], Format: CSV, Location: InMemoryFileIndex(1 paths)[file:/home/iceberg/data/medals.csv], PartitionFilters: [], PushedFilters: [IsNotNull(medal_id)], ReadSchema: struct<medal_id:bigint,sprite_uri:string,sprite_left:int,sprite_top:int,sprite_sheet_width:int,sp...\n",
      "\n",
      "\n",
      "== Physical Plan ==\n",
      "AdaptiveSparkPlan isFinalPlan=false\n",
      "+- Project [match_id#106, mapid#107, is_team_game#108, playlist_id#109, game_variant_id#110, is_match_over#111, completion_date#112, match_duration#113, game_mode#114, map_variant_id#115, mapid#997]\n",
      "   +- BroadcastHashJoin [match_id#106], [match_id#996], Inner, BuildRight, false\n",
      "      :- Filter isnotnull(match_id#106)\n",
      "      :  +- FileScan csv [match_id#106,mapid#107,is_team_game#108,playlist_id#109,game_variant_id#110,is_match_over#111,completion_date#112,match_duration#113,game_mode#114,map_variant_id#115] Batched: false, DataFilters: [isnotnull(match_id#106)], Format: CSV, Location: InMemoryFileIndex(1 paths)[file:/home/iceberg/data/matches.csv], PartitionFilters: [], PushedFilters: [IsNotNull(match_id)], ReadSchema: struct<match_id:string,mapid:string,is_team_game:boolean,playlist_id:string,game_variant_id:strin...\n",
      "      +- BroadcastExchange HashedRelationBroadcastMode(List(input[0, string, true]),false), [plan_id=1071]\n",
      "         +- HashAggregate(keys=[match_id#996, mapid#997], functions=[])\n",
      "            +- Exchange hashpartitioning(match_id#996, mapid#997, 200), ENSURE_REQUIREMENTS, [plan_id=1068]\n",
      "               +- HashAggregate(keys=[match_id#996, mapid#997], functions=[])\n",
      "                  +- Filter isnotnull(match_id#996)\n",
      "                     +- FileScan csv [match_id#996,mapid#997] Batched: false, DataFilters: [isnotnull(match_id#996)], Format: CSV, Location: InMemoryFileIndex(1 paths)[file:/home/iceberg/data/matches.csv], PartitionFilters: [], PushedFilters: [IsNotNull(match_id)], ReadSchema: struct<match_id:string,mapid:string>\n",
      "\n",
      "\n"
     ]
    }
   ],
   "source": [
    "medal_matches_players_joined = medals_matches_players.join(\n",
    "    medals_broadcasted, \"medal_id\", \"inner\"\n",
    ")\n",
    "maps_joined = matches.join(\n",
    "    maps_broadcasted, \"match_id\", \"inner\"\n",
    ")\n",
    "\n",
    "# Explain the join strategy\n",
    "medal_matches_players_joined.explain()\n",
    "maps_joined.explain()\n",
    "\n",
    "\n",
    "##BroadcastHashJoin"
   ]
  },
  {
   "cell_type": "code",
   "execution_count": 22,
   "id": "08f50441-67f9-42cd-be5e-dce6aec186e5",
   "metadata": {},
   "outputs": [],
   "source": [
    "## now move to use Bucket Joins\n",
    "\n",
    "# Bucket joins reduce shuffling by pre-sorting and organizing data into fixed buckets.\n",
    "\n",
    "# Unlike shuffle joins, bucket joins avoid expensive network transfer.\n",
    "\n",
    "# Better scalability when dealing with large tables."
   ]
  },
  {
   "cell_type": "code",
   "execution_count": null,
   "id": "62b67a67-5035-41ad-9ba9-6b65fe371438",
   "metadata": {},
   "outputs": [],
   "source": [
    "## use batch id for 16 partition "
   ]
  },
  {
   "cell_type": "code",
   "execution_count": 23,
   "id": "e938a9a6-960b-49f0-96c1-992a6c57006b",
   "metadata": {},
   "outputs": [
    {
     "name": "stderr",
     "output_type": "stream",
     "text": [
      "                                                                                "
     ]
    }
   ],
   "source": [
    "# Drop existing bucketed tables if they exist\n",
    "spark.sql(\"DROP TABLE IF EXISTS bootcamp.match_details_bucketed\")\n",
    "spark.sql(\"DROP TABLE IF EXISTS bootcamp.matches_bucketed\")\n",
    "spark.sql(\"DROP TABLE IF EXISTS bootcamp.medals_matches_players_bucketed\")\n",
    "\n",
    "# Create bucketed tables\n",
    "spark.sql(\"\"\"\n",
    "    CREATE TABLE IF NOT EXISTS bootcamp.match_details_bucketed (\n",
    "        match_id STRING,\n",
    "        player_gamertag STRING,\n",
    "        player_total_kills INTEGER,\n",
    "        player_total_deaths INTEGER\n",
    "    )\n",
    "    USING iceberg\n",
    "    PARTITIONED BY (bucket(16, match_id))\n",
    "\"\"\")\n",
    "\n",
    "match_details.write.mode(\"overwrite\").bucketBy(16, \"match_id\").saveAsTable(\"bootcamp.match_details_bucketed\")\n",
    "\n",
    "spark.sql(\"\"\"\n",
    "    CREATE TABLE IF NOT EXISTS bootcamp.matches_bucketed (\n",
    "        match_id STRING,\n",
    "        playlist_id STRING,\n",
    "        mapid STRING,\n",
    "        completion_date TIMESTAMP\n",
    "    )\n",
    "    USING iceberg\n",
    "    PARTITIONED BY (bucket(16, match_id))\n",
    "\"\"\")\n",
    "\n",
    "matches.write.mode(\"overwrite\").bucketBy(16, \"match_id\").saveAsTable(\"bootcamp.matches_bucketed\")\n",
    "\n",
    "spark.sql(\"\"\"\n",
    "    CREATE TABLE IF NOT EXISTS bootcamp.medals_matches_players_bucketed (\n",
    "        match_id STRING,\n",
    "        player_gamertag STRING,\n",
    "        medal_id STRING\n",
    "    )\n",
    "    USING iceberg\n",
    "    PARTITIONED BY (bucket(16, match_id))\n",
    "\"\"\")\n",
    "\n",
    "medals_matches_players.write.mode(\"overwrite\").bucketBy(16, \"match_id\").saveAsTable(\"bootcamp.medals_matches_players_bucketed\")\n"
   ]
  },
  {
   "cell_type": "code",
   "execution_count": null,
   "id": "9be93549-2242-4382-ac4d-505934a10ce7",
   "metadata": {},
   "outputs": [],
   "source": [
    "##Perform Bucket Join"
   ]
  },
  {
   "cell_type": "code",
   "execution_count": 33,
   "id": "6fdfa498-22b3-42c2-8007-ff8d47295c7a",
   "metadata": {},
   "outputs": [],
   "source": [
    "bucketed_join_df = spark.sql(\"\"\"\n",
    "    SELECT md.match_id,   -- ✅ Add match_id explicitly\n",
    "           md.player_gamertag, \n",
    "           m.playlist_id, \n",
    "           m.mapid, \n",
    "           mmp.medal_id, \n",
    "           md.player_total_kills\n",
    "    FROM bootcamp.match_details_bucketed md\n",
    "    JOIN bootcamp.matches_bucketed m ON md.match_id = m.match_id\n",
    "    JOIN bootcamp.medals_matches_players_bucketed mmp ON md.match_id = mmp.match_id\n",
    "\"\"\")\n"
   ]
  },
  {
   "cell_type": "code",
   "execution_count": 34,
   "id": "6cfc8d18-66f6-4e26-8a0b-82417704e109",
   "metadata": {},
   "outputs": [
    {
     "name": "stdout",
     "output_type": "stream",
     "text": [
      "== Physical Plan ==\n",
      "AdaptiveSparkPlan isFinalPlan=false\n",
      "+- Project [match_id#1307, player_gamertag#1308, playlist_id#1346, mapid#1344, medal_id#1355L, player_total_kills#1326]\n",
      "   +- SortMergeJoin [match_id#1307], [match_id#1353], Inner\n",
      "      :- Project [match_id#1307, player_gamertag#1308, player_total_kills#1326, mapid#1344, playlist_id#1346]\n",
      "      :  +- SortMergeJoin [match_id#1307], [match_id#1343], Inner\n",
      "      :     :- Sort [match_id#1307 ASC NULLS FIRST], false, 0\n",
      "      :     :  +- Exchange hashpartitioning(match_id#1307, 200), ENSURE_REQUIREMENTS, [plan_id=1566]\n",
      "      :     :     +- BatchScan demo.bootcamp.match_details_bucketed[match_id#1307, player_gamertag#1308, player_total_kills#1326] demo.bootcamp.match_details_bucketed (branch=null) [filters=match_id IS NOT NULL, groupedBy=] RuntimeFilters: []\n",
      "      :     +- Sort [match_id#1343 ASC NULLS FIRST], false, 0\n",
      "      :        +- Exchange hashpartitioning(match_id#1343, 200), ENSURE_REQUIREMENTS, [plan_id=1567]\n",
      "      :           +- BatchScan demo.bootcamp.matches_bucketed[match_id#1343, mapid#1344, playlist_id#1346] demo.bootcamp.matches_bucketed (branch=null) [filters=match_id IS NOT NULL, groupedBy=] RuntimeFilters: []\n",
      "      +- Sort [match_id#1353 ASC NULLS FIRST], false, 0\n",
      "         +- Exchange hashpartitioning(match_id#1353, 200), ENSURE_REQUIREMENTS, [plan_id=1574]\n",
      "            +- BatchScan demo.bootcamp.medals_matches_players_bucketed[match_id#1353, medal_id#1355L] demo.bootcamp.medals_matches_players_bucketed (branch=null) [filters=match_id IS NOT NULL, groupedBy=] RuntimeFilters: []\n",
      "\n",
      "\n"
     ]
    }
   ],
   "source": [
    "bucketed_join_df.explain()\n"
   ]
  },
  {
   "cell_type": "code",
   "execution_count": 26,
   "id": "3554dc4f-4e40-4fec-859a-d5fde8f774a4",
   "metadata": {},
   "outputs": [],
   "source": [
    "# 🔹 Key Takeaways from Bucket Join in HW\n",
    "# Concept:\tWhy It Matters?\n",
    "# Bucket Partitioning:\tReduces shuffle costs by pre-distributing data\n",
    "# No Shuffling Needed:\tFaster joins because data is pre-organized\n",
    "# 16 Buckets on match_id:\tAllows better load balancing across executors\n",
    "# SortMergeJoin:\tConfirms Spark is using the bucket join strategy"
   ]
  },
  {
   "cell_type": "code",
   "execution_count": 28,
   "id": "8aded392-7277-4a6a-b940-68672d672347",
   "metadata": {},
   "outputs": [],
   "source": [
    "# STep4 :Aggregate the joined data frame \n",
    "\n",
    "# interesting question:\n",
    "# Which player averages the most kills per game?\n",
    "# Which playlist gets played the most?\n",
    "# Which map gets played the most?\n",
    "# Which map do players get the most Killing Spree medals on?\n"
   ]
  },
  {
   "cell_type": "code",
   "execution_count": 35,
   "id": "8ca9d497-6d18-4b12-b0db-867f27c7b834",
   "metadata": {},
   "outputs": [
    {
     "name": "stderr",
     "output_type": "stream",
     "text": [
      "[Stage 84:>                 (0 + 4) / 4][Stage 85:====>             (1 + 3) / 4]"
     ]
    },
    {
     "name": "stdout",
     "output_type": "stream",
     "text": [
      "+---------------+-----------------+\n",
      "|player_gamertag|        avg_kills|\n",
      "+---------------+-----------------+\n",
      "|   gimpinator14|            109.0|\n",
      "|  I Johann117 I|             96.0|\n",
      "|BudgetLegendary|             83.0|\n",
      "|      GsFurreal|             75.0|\n",
      "|   TameablePoet|74.22429906542057|\n",
      "|   Sexy is Back|             73.0|\n",
      "|   killerguy789|             68.0|\n",
      "|THC GUILTYSPARK|             67.0|\n",
      "|    HisLattice1|             66.0|\n",
      "|PrimePromethean|             66.0|\n",
      "+---------------+-----------------+\n",
      "only showing top 10 rows\n",
      "\n"
     ]
    },
    {
     "name": "stderr",
     "output_type": "stream",
     "text": [
      "                                                                                "
     ]
    }
   ],
   "source": [
    "# Which player averages the most kills per game?\n",
    "from pyspark.sql.functions import avg, desc\n",
    "\n",
    "most_kills_per_game = bucketed_join_df.groupBy(\"player_gamertag\") \\\n",
    "    .agg(avg(\"player_total_kills\").alias(\"avg_kills\")) \\\n",
    "    .orderBy(desc(\"avg_kills\"))\n",
    "\n",
    "most_kills_per_game.show(10)"
   ]
  },
  {
   "cell_type": "code",
   "execution_count": 36,
   "id": "bb6afec4-50ac-4d04-bc55-ce174abbe72c",
   "metadata": {},
   "outputs": [
    {
     "name": "stdout",
     "output_type": "stream",
     "text": [
      "root\n",
      " |-- match_id: string (nullable = true)\n",
      " |-- player_gamertag: string (nullable = true)\n",
      " |-- playlist_id: string (nullable = true)\n",
      " |-- mapid: string (nullable = true)\n",
      " |-- medal_id: long (nullable = true)\n",
      " |-- player_total_kills: integer (nullable = true)\n",
      "\n"
     ]
    }
   ],
   "source": [
    "bucketed_join_df.printSchema()\n"
   ]
  },
  {
   "cell_type": "code",
   "execution_count": 37,
   "id": "2d61b8b3-58f7-4a43-8668-9e66c3d44444",
   "metadata": {},
   "outputs": [
    {
     "name": "stdout",
     "output_type": "stream",
     "text": [
      "+--------------------+-----------+\n",
      "|         playlist_id|match_count|\n",
      "+--------------------+-----------+\n",
      "|f72e0ef0-7c4a-430...|    1565529|\n",
      "|780cc101-005c-4fc...|    1116002|\n",
      "|0bcf2be1-3168-4e4...|    1015496|\n",
      "|c98949ae-60a8-43d...|     824932|\n",
      "|2323b76a-db98-4e0...|     692342|\n",
      "|892189e9-d712-4bd...|     667670|\n",
      "|f27a65eb-2d11-496...|     167498|\n",
      "|355dc154-9809-4ed...|     140006|\n",
      "|d0766624-dbd7-453...|     138470|\n",
      "|bc0f8ad6-31e6-4a1...|     111073|\n",
      "+--------------------+-----------+\n",
      "only showing top 10 rows\n",
      "\n"
     ]
    },
    {
     "name": "stderr",
     "output_type": "stream",
     "text": [
      "                                                                                "
     ]
    }
   ],
   "source": [
    "# Which playlist gets played the most?\n",
    "from pyspark.sql.functions import count\n",
    "\n",
    "most_played_playlist = bucketed_join_df.groupBy(\"playlist_id\") \\\n",
    "    .agg(count(\"match_id\").alias(\"match_count\")) \\\n",
    "    .orderBy(desc(\"match_count\"))\n",
    "\n",
    "most_played_playlist.show(10)\n"
   ]
  },
  {
   "cell_type": "code",
   "execution_count": 38,
   "id": "f5c8f80a-1eee-4d1f-833a-b92f91997cc6",
   "metadata": {},
   "outputs": [
    {
     "name": "stdout",
     "output_type": "stream",
     "text": [
      "+--------------------+-----------+\n",
      "|               mapid|match_count|\n",
      "+--------------------+-----------+\n",
      "|c74c9d0f-f206-11e...|    1445545|\n",
      "|c7edbf0f-f206-11e...|    1435048|\n",
      "|c7805740-f206-11e...|     953278|\n",
      "|cdb934b0-f206-11e...|     396305|\n",
      "|cb914b9e-f206-11e...|     309045|\n",
      "|ce1dc2de-f206-11e...|     299736|\n",
      "|cebd854f-f206-11e...|     298891|\n",
      "|caacb800-f206-11e...|     291540|\n",
      "|cd844200-f206-11e...|     261162|\n",
      "|cc040aa1-f206-11e...|     256966|\n",
      "+--------------------+-----------+\n",
      "only showing top 10 rows\n",
      "\n"
     ]
    }
   ],
   "source": [
    "# Which map gets played the most?\n",
    "\n",
    "most_played_map = bucketed_join_df.groupBy(\"mapid\") \\\n",
    "    .agg(count(\"match_id\").alias(\"match_count\")) \\\n",
    "    .orderBy(desc(\"match_count\"))\n",
    "\n",
    "most_played_map.show(10)"
   ]
  },
  {
   "cell_type": "code",
   "execution_count": 39,
   "id": "8547393a-27dc-4272-8e7d-291255ba2436",
   "metadata": {},
   "outputs": [
    {
     "name": "stdout",
     "output_type": "stream",
     "text": [
      "+-----+-------------------+\n",
      "|mapid|killing_spree_count|\n",
      "+-----+-------------------+\n",
      "+-----+-------------------+\n",
      "\n"
     ]
    }
   ],
   "source": [
    " # Which Map Do Players Get the Most Killing Spree Medals On?\n",
    "most_killing_spree_map = bucketed_join_df.filter(bucketed_join_df.medal_id == \"Killing Spree\") \\\n",
    "    .groupBy(\"mapid\") \\\n",
    "    .agg(count(\"medal_id\").alias(\"killing_spree_count\")) \\\n",
    "    .orderBy(desc(\"killing_spree_count\"))\n",
    "\n",
    "most_killing_spree_map.show(10)\n"
   ]
  },
  {
   "cell_type": "code",
   "execution_count": 40,
   "id": "4b12342a-120d-47b7-bfe8-b71229b7b9df",
   "metadata": {},
   "outputs": [],
   "source": [
    "## key take away \n",
    "\n",
    "# ✔ Aggregates bucketed data to find key gameplay trends.\n",
    "# ✔ Uses groupBy() + agg() for efficient Spark-based aggregation.\n",
    "# ✔ Uses .orderBy(desc(...)) to find top players, playlists, and maps.\n",
    "# ✔ Identifies player performance trends, popular maps, and gameplay styles."
   ]
  },
  {
   "cell_type": "code",
   "execution_count": 44,
   "id": "c5dfc810-f466-41fb-b563-681184e47500",
   "metadata": {},
   "outputs": [],
   "source": [
    "\n",
    "# 5: 🔹 Reference: Sorting in Lab Notebooks\n",
    "# From Caching.ipynb, we see examples of sorting to optimize partitions:\n",
    "\n",
    "\n",
    "# sorted_df = df.repartition(10, col(\"some_column\")).sortWithinPartitions(\"some_column\")\n",
    "\n",
    "\n",
    "### we know that  playlists and maps are both very low cardinality"
   ]
  },
  {
   "cell_type": "code",
   "execution_count": 45,
   "id": "4918af40-86c6-4aff-9d34-bcef293c8add",
   "metadata": {},
   "outputs": [],
   "source": [
    " # Step 1: Apply .sortWithinPartitions() on Different Columns\n",
    "\n",
    "sorted_by_playlist = most_played_playlist.repartition(10, \"playlist_id\") \\\n",
    "    .sortWithinPartitions(\"playlist_id\")\n"
   ]
  },
  {
   "cell_type": "code",
   "execution_count": 46,
   "id": "49c7cfee-c3cf-43fe-9eba-6d2d1fa686e2",
   "metadata": {},
   "outputs": [],
   "source": [
    "sorted_by_map = most_played_map.repartition(10, \"mapid\") \\\n",
    "    .sortWithinPartitions(\"mapid\")\n"
   ]
  },
  {
   "cell_type": "code",
   "execution_count": 47,
   "id": "e950fa45-7eaf-4547-a33d-40bd95575e19",
   "metadata": {},
   "outputs": [
    {
     "name": "stderr",
     "output_type": "stream",
     "text": [
      "                                                                                "
     ]
    },
    {
     "name": "stdout",
     "output_type": "stream",
     "text": [
      "Size when sorted by Playlist: 23 rows\n",
      "Size when sorted by Map: 16 rows\n"
     ]
    }
   ],
   "source": [
    "# Step 2: Compare Data Sizes\n",
    "\n",
    "print(f\"Size when sorted by Playlist: {sorted_by_playlist.count()} rows\")\n",
    "print(f\"Size when sorted by Map: {sorted_by_map.count()} rows\")\n",
    "\n",
    "\n",
    "# Sorting by mapid (maps) resulted in fewer rows (16 rows) than sorting by playlist_id (23 rows).\n",
    "\n",
    "# Since mapid has fewer unique values, sorting by mapid is likely more efficient.\n",
    "\n",
    "# Sorting by mapid led to fewer partitions being touched, reducing shuffle and storage overhead.\n",
    "\n",
    "\n",
    "# playlist_id\t23 rows\t✅ Higher cardinality → More partitions\n",
    "# mapid\t16 rows\t✅ Lower cardinality → More efficient sorting"
   ]
  },
  {
   "cell_type": "code",
   "execution_count": 48,
   "id": "149b23a9-394d-425d-b4cd-cd5f8fc98496",
   "metadata": {},
   "outputs": [],
   "source": [
    "# Method\t/Shuffling Cost\t/Network Cost\t/Best Use Case\n",
    "# Direct orderBy()\t/❌ High\t/❌ High\t/Only good for small datasets\n",
    "# sortWithinPartitions() → orderBy()\t/✅ Lower\t/✅ Lower\t/Best for large datasets\n"
   ]
  },
  {
   "cell_type": "code",
   "execution_count": 49,
   "id": "94da3cae-8480-496e-b567-b362cc57fd64",
   "metadata": {
    "scrolled": true
   },
   "outputs": [
    {
     "name": "stderr",
     "output_type": "stream",
     "text": [
      "[Stage 176:======================================>                  (2 + 1) / 3]"
     ]
    },
    {
     "name": "stdout",
     "output_type": "stream",
     "text": [
      "Partitions used (sorted by Playlist): 10\n",
      "Partitions used (sorted by Map): 10\n"
     ]
    }
   ],
   "source": [
    "print(f\"Partitions used (sorted by Playlist): {sorted_by_playlist.rdd.getNumPartitions()}\")\n",
    "print(f\"Partitions used (sorted by Map): {sorted_by_map.rdd.getNumPartitions()}\")\n"
   ]
  },
  {
   "cell_type": "code",
   "execution_count": 50,
   "id": "7844d061-e72f-4d1a-a8e8-b5905d5241d4",
   "metadata": {},
   "outputs": [
    {
     "name": "stderr",
     "output_type": "stream",
     "text": [
      "                                                                                "
     ]
    },
    {
     "name": "stdout",
     "output_type": "stream",
     "text": [
      "+--------------------+-----+\n",
      "|SPARK_PARTITION_ID()|count|\n",
      "+--------------------+-----+\n",
      "|                   0|    4|\n",
      "|                   2|    2|\n",
      "|                   3|    3|\n",
      "|                   4|    2|\n",
      "|                   5|    2|\n",
      "|                   7|    3|\n",
      "|                   8|    4|\n",
      "|                   9|    3|\n",
      "+--------------------+-----+\n",
      "\n",
      "+--------------------+-----+\n",
      "|SPARK_PARTITION_ID()|count|\n",
      "+--------------------+-----+\n",
      "|                   0|    2|\n",
      "|                   1|    3|\n",
      "|                   2|    2|\n",
      "|                   3|    3|\n",
      "|                   5|    1|\n",
      "|                   6|    1|\n",
      "|                   7|    1|\n",
      "|                   8|    1|\n",
      "|                   9|    2|\n",
      "+--------------------+-----+\n",
      "\n"
     ]
    }
   ],
   "source": [
    "from pyspark.sql.functions import spark_partition_id\n",
    "\n",
    "sorted_by_playlist.groupBy(spark_partition_id()).count().show()\n",
    "sorted_by_map.groupBy(spark_partition_id()).count().show()\n"
   ]
  },
  {
   "cell_type": "code",
   "execution_count": 51,
   "id": "15ef5fda-ca2a-46ca-b5bd-d909c9305ed7",
   "metadata": {},
   "outputs": [],
   "source": [
    "# 🔹 1️⃣ Key Observations from SPARK_PARTITION_ID() Counts\n",
    "# Sorting Column\tPartition IDs Used\tMax Rows in a Partition\tTotal Rows\n",
    "# playlist_id\t8 active partitions (0,2,3,4,5,7,8,9)\tMax = 4\t23 rows\n",
    "# mapid\t9 active partitions (0,1,2,3,5,6,7,8,9)\tMax = 3\t16 rows\n",
    "\n",
    "# 🔹 2️⃣ Why Does mapid Have Fewer Rows?\n",
    "# Some partitions (5, 6, 7, 8) have only 1 row → Suggests that mapid values are not evenly spread.\n",
    "\n",
    "# Lower maximum row count per partition (only 3 rows at most).\n",
    "\n",
    "# Total row count is lower because some partitions hold little to no data.\n",
    "\n",
    "# 💡 Even though mapid has more active partitions (9 vs 8), each partition holds fewer rows, leading to a lower total row count."
   ]
  },
  {
   "cell_type": "code",
   "execution_count": null,
   "id": "57f63d5c-be61-45eb-93d3-01b59993a00b",
   "metadata": {},
   "outputs": [],
   "source": [
    "# 🔹 1️⃣ Sorting Performance: Low Cardinality Wins\n",
    "# If sorting is the goal, then: ✅ Using low cardinality in .sortWithinPartitions() → Faster global sorting\n",
    "# ❌ Using high cardinality in .sortWithinPartitions() → Slower global sorting\n",
    "\n",
    "# Why?\n",
    "# Factor\tLow Cardinality (mapid)\tHigh Cardinality (playlist_id)\n",
    "# Number of Unique Values\tFewer (mapid has less distinct values)\tMore (playlist_id has many unique values)\n",
    "# Partition Row Count\t✅ Fewer rows per partition → Faster sorting\t❌ More rows per partition → Slower sorting\n",
    "# Global Sorting Efficiency\t✅ Faster (less data shuffling needed)\t❌ Slower (more shuffling across partitions)\n",
    "# ✅ Thus, sorting using low-cardinality columns (mapid) first will improve sorting performance.\n",
    "\n",
    "# 🔹 2️⃣ Aggregation Performance: High Cardinality Wins\n",
    "# If aggregation (e.g., SUM(), COUNT()) is the goal, then: ✅ Using high cardinality in .sortWithinPartitions() → Faster aggregation\n",
    "# ❌ Using low cardinality in .sortWithinPartitions() → Slower aggregation\n",
    "\n",
    "# Why?\n",
    "# Factor\tLow Cardinality (mapid)\tHigh Cardinality (playlist_id)\n",
    "# Number of Unique Groups\tFewer (mapid has less distinct values)\tMore (playlist_id has many unique values)\n",
    "# Workload Distribution\t❌ Less distributed (some partitions have more rows)\t✅ More distributed (partitions are more balanced)\n",
    "# Parallel Aggregation Efficiency\t❌ Less effective (some partitions do all the work)\t✅ More effective (workload is spread evenly)\n",
    "# ✅ Thus, aggregations like SUM(), AVG(), or COUNT() using high-cardinality columns (playlist_id) will be more efficient because data is more evenly distributed across partitions."
   ]
  },
  {
   "cell_type": "code",
   "execution_count": 53,
   "id": "24b5e747-e2bf-41d8-a7ff-f005293e3cf3",
   "metadata": {},
   "outputs": [],
   "source": [
    "# another follow up question :"
   ]
  },
  {
   "cell_type": "code",
   "execution_count": 54,
   "id": "8b53fb76-d689-425a-8b72-fb68684eca15",
   "metadata": {},
   "outputs": [],
   "source": [
    "# ✅ Partition + .sortWithinPartitions() + Aggregation vs. Global Sorting for Large Datasets\n",
    "# Yes! Partitioning first, then sorting within partitions before aggregation, will generally perform better than globally sorting first for large datasets.\n",
    "\n",
    "# 🔹 1️⃣ Why Partitioning + .sortWithinPartitions() Before Aggregation is Better\n",
    "# If we first partition the data, then sort within partitions before aggregating, we get: ✅ Better parallelism – Each partition can process its own data independently.\n",
    "# ✅ Less shuffling – Spark doesn’t need to move data across partitions as much.\n",
    "# ✅ Better compression & I/O efficiency – Sorting within partitions improves read performance.\n",
    "\n",
    "# Approach: Partition + .sortWithinPartitions() + Aggregation\n",
    "# python\n",
    "# Copy\n",
    "# Edit\n",
    "# df = df.repartition(10, \"some_column\") \\\n",
    "#        .sortWithinPartitions(\"some_column\") \\\n",
    "#        .groupBy(\"some_column\").sum(\"value\")\n",
    "# 💡 This method avoids expensive global shuffling because each partition pre-sorts its data, reducing unnecessary data movement.\n",
    "\n",
    "# 🔹 2️⃣ Why Global Sorting Before Aggregation is Worse\n",
    "# If we sort everything globally first, we get: ❌ Massive shuffle cost – Spark needs to move and reorder all data across partitions.\n",
    "# ❌ Less parallelism – Spark cannot process partitions independently since all data needs to be fully sorted first.\n",
    "# ❌ High memory usage – Sorting everything before aggregation requires sorting a much larger dataset in memory.\n",
    "\n",
    "# Approach: Global Sorting Before Aggregation\n",
    "# python\n",
    "# Copy\n",
    "# Edit\n",
    "# df = df.orderBy(\"some_column\").groupBy(\"some_column\").sum(\"value\")\n",
    "# 💡 This is inefficient because Spark must first fully shuffle and sort before starting the aggregation."
   ]
  },
  {
   "cell_type": "code",
   "execution_count": null,
   "id": "d1748780-40ec-4bd0-86f1-9c07bf6ccc63",
   "metadata": {},
   "outputs": [],
   "source": []
  }
 ],
 "metadata": {
  "kernelspec": {
   "display_name": "Python 3 (ipykernel)",
   "language": "python",
   "name": "python3"
  },
  "language_info": {
   "codemirror_mode": {
    "name": "ipython",
    "version": 3
   },
   "file_extension": ".py",
   "mimetype": "text/x-python",
   "name": "python",
   "nbconvert_exporter": "python",
   "pygments_lexer": "ipython3",
   "version": "3.10.16"
  }
 },
 "nbformat": 4,
 "nbformat_minor": 5
}
